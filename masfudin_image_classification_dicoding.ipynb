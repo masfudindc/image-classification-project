{
  "nbformat": 4,
  "nbformat_minor": 0,
  "metadata": {
    "colab": {
      "provenance": [],
      "authorship_tag": "ABX9TyNWKOG0rIpuT1cFTa2TZzIK"
    },
    "kernelspec": {
      "name": "python3",
      "display_name": "Python 3"
    },
    "language_info": {
      "name": "python"
    }
  },
  "cells": [
    {
      "cell_type": "markdown",
      "source": [
        "# **Masfudin Dwi Cahyo**\n",
        "\n",
        "masfudindc@gmail.com\n",
        "\n",
        "\n",
        "\n",
        "---\n",
        "\n"
      ],
      "metadata": {
        "id": "93VUZ_CQblkD"
      }
    },
    {
      "cell_type": "markdown",
      "source": [
        "# **Submission Dicoding**\n",
        "\n",
        "## **Proyek Akhir : Klasifikasi Gambar**\n",
        "\n",
        "\n",
        "---\n",
        "\n"
      ],
      "metadata": {
        "id": "BqQigOYccHjX"
      }
    },
    {
      "cell_type": "code",
      "execution_count": null,
      "metadata": {
        "id": "91LdFsKiU3R3"
      },
      "outputs": [],
      "source": []
    }
  ]
}