{
  "nbformat": 4,
  "nbformat_minor": 0,
  "metadata": {
    "colab": {
      "provenance": [],
      "authorship_tag": "ABX9TyPfN0iI48eE7JrMoGIIFIj5"
    },
    "kernelspec": {
      "name": "python3",
      "display_name": "Python 3"
    },
    "language_info": {
      "name": "python"
    }
  },
  "cells": [
    {
      "cell_type": "markdown",
      "source": [
        "# **Masfudin Dwi Cahyo**\n",
        "\n",
        "### **masfudindc@gmail.com**\n",
        "\n",
        "\n",
        "\n",
        "---\n",
        "\n"
      ],
      "metadata": {
        "id": "93VUZ_CQblkD"
      }
    },
    {
      "cell_type": "markdown",
      "source": [
        "# **Submission Dicoding**\n",
        "\n",
        "## **Proyek Akhir : Klasifikasi Gambar**\n",
        "\n",
        "\n",
        "---\n",
        "\n"
      ],
      "metadata": {
        "id": "BqQigOYccHjX"
      }
    },
    {
      "cell_type": "markdown",
      "source": [
        "# **Load Data**"
      ],
      "metadata": {
        "id": "BqFAoYQns15e"
      }
    },
    {
      "cell_type": "code",
      "execution_count": null,
      "metadata": {
        "id": "91LdFsKiU3R3"
      },
      "outputs": [],
      "source": [
        "from google.colab import drive\n",
        "drive.mount('/content/drive')"
      ]
    },
    {
      "cell_type": "code",
      "source": [
        "# Load data bertipe zip dengan library zipfile\n",
        "from zipfile import ZipFile\n",
        "with ZipFile('/content/drive/MyDrive/Dicoding/rockpaperscissors.zip', 'r') as zip:\n",
        "  zip.extractall('/content/drive/MyDrive/Dicoding/rockpaperscissors')"
      ],
      "metadata": {
        "id": "cnReinZ6s8cR"
      },
      "execution_count": null,
      "outputs": []
    },
    {
      "cell_type": "markdown",
      "source": [
        "# **Import Library**"
      ],
      "metadata": {
        "id": "er6nZJT1tIOL"
      }
    },
    {
      "cell_type": "code",
      "source": [],
      "metadata": {
        "id": "t4a2oNuHtL1o"
      },
      "execution_count": null,
      "outputs": []
    }
  ]
}